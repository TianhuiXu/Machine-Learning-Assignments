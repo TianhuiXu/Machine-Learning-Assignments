{
 "cells": [
  {
   "cell_type": "code",
   "execution_count": 1,
   "metadata": {},
   "outputs": [],
   "source": [
    "# ignore warnings\n",
    "def warn(*args, **kwargs):\n",
    "    pass\n",
    "import warnings\n",
    "warnings.warn = warn\n",
    "\n",
    "# import necessary packages\n",
    "import pandas as pd\n",
    "import matplotlib.pyplot as plt\n",
    "import numpy as np\n",
    "from datetime import datetime\n",
    "#import re\n",
    "from sklearn.model_selection import train_test_split\n",
    "from sklearn.datasets import load_digits\n",
    "from sklearn.linear_model import LinearRegression\n",
    "from sklearn.metrics import mean_squared_error, r2_score\n",
    "from sklearn.neighbors import KNeighborsClassifier\n",
    "from sklearn.metrics import precision_recall_fscore_support\n",
    "from sklearn.metrics import accuracy_score\n",
    "from sklearn.model_selection import GridSearchCV"
   ]
  },
  {
   "cell_type": "markdown",
   "metadata": {},
   "source": [
    "### Moore’s law\n",
    "\n",
    "Use the link here to download a large amount of data relating to CPU specs. The script might take as long as an hour, depending on your connection speed."
   ]
  },
  {
   "cell_type": "code",
   "execution_count": 2,
   "metadata": {},
   "outputs": [
    {
     "data": {
      "text/html": [
       "<div>\n",
       "<style scoped>\n",
       "    .dataframe tbody tr th:only-of-type {\n",
       "        vertical-align: middle;\n",
       "    }\n",
       "\n",
       "    .dataframe tbody tr th {\n",
       "        vertical-align: top;\n",
       "    }\n",
       "\n",
       "    .dataframe thead th {\n",
       "        text-align: right;\n",
       "    }\n",
       "</style>\n",
       "<table border=\"1\" class=\"dataframe\">\n",
       "  <thead>\n",
       "    <tr style=\"text-align: right;\">\n",
       "      <th></th>\n",
       "      <th>testID</th>\n",
       "      <th>benchName</th>\n",
       "      <th>base</th>\n",
       "      <th>peak</th>\n",
       "    </tr>\n",
       "  </thead>\n",
       "  <tbody>\n",
       "    <tr>\n",
       "      <th>0</th>\n",
       "      <td>cpu95-19990104-03254</td>\n",
       "      <td>101.tomcatv</td>\n",
       "      <td>19.40</td>\n",
       "      <td>27.1</td>\n",
       "    </tr>\n",
       "    <tr>\n",
       "      <th>1</th>\n",
       "      <td>cpu95-19990104-03254</td>\n",
       "      <td>102.swim</td>\n",
       "      <td>27.20</td>\n",
       "      <td>34.8</td>\n",
       "    </tr>\n",
       "    <tr>\n",
       "      <th>2</th>\n",
       "      <td>cpu95-19990104-03254</td>\n",
       "      <td>103.su2cor</td>\n",
       "      <td>10.10</td>\n",
       "      <td>9.98</td>\n",
       "    </tr>\n",
       "    <tr>\n",
       "      <th>3</th>\n",
       "      <td>cpu95-19990104-03254</td>\n",
       "      <td>104.hydro2d</td>\n",
       "      <td>8.58</td>\n",
       "      <td>8.61</td>\n",
       "    </tr>\n",
       "    <tr>\n",
       "      <th>4</th>\n",
       "      <td>cpu95-19990104-03254</td>\n",
       "      <td>107.mgrid</td>\n",
       "      <td>8.94</td>\n",
       "      <td>9.44</td>\n",
       "    </tr>\n",
       "  </tbody>\n",
       "</table>\n",
       "</div>"
      ],
      "text/plain": [
       "                 testID    benchName   base  peak\n",
       "0  cpu95-19990104-03254  101.tomcatv  19.40  27.1\n",
       "1  cpu95-19990104-03254     102.swim  27.20  34.8\n",
       "2  cpu95-19990104-03254   103.su2cor  10.10  9.98\n",
       "3  cpu95-19990104-03254  104.hydro2d   8.58  8.61\n",
       "4  cpu95-19990104-03254    107.mgrid   8.94  9.44"
      ]
     },
     "execution_count": 2,
     "metadata": {},
     "output_type": "execute_result"
    }
   ],
   "source": [
    "# load and observe the benchmark dataset\n",
    "benchmark = pd.read_csv(\"benchmarks.csv\")\n",
    "benchmark.head()"
   ]
  },
  {
   "cell_type": "code",
   "execution_count": 3,
   "metadata": {},
   "outputs": [
    {
     "name": "stdout",
     "output_type": "stream",
     "text": [
      "<class 'pandas.core.frame.DataFrame'>\n",
      "RangeIndex: 136995 entries, 0 to 136994\n",
      "Data columns (total 4 columns):\n",
      " #   Column     Non-Null Count   Dtype  \n",
      "---  ------     --------------   -----  \n",
      " 0   testID     136995 non-null  object \n",
      " 1   benchName  136995 non-null  object \n",
      " 2   base       136995 non-null  float64\n",
      " 3   peak       131575 non-null  object \n",
      "dtypes: float64(1), object(3)\n",
      "memory usage: 4.2+ MB\n"
     ]
    }
   ],
   "source": [
    "benchmark.info()"
   ]
  },
  {
   "cell_type": "markdown",
   "metadata": {},
   "source": [
    "Observing the dataset, we see that the first three columns are free of null data, but for column peak there are null data. Therefore, when taking peak speed into account, we need to get rid of rows that contain nulls."
   ]
  },
  {
   "cell_type": "code",
   "execution_count": 4,
   "metadata": {},
   "outputs": [
    {
     "data": {
      "text/html": [
       "<div>\n",
       "<style scoped>\n",
       "    .dataframe tbody tr th:only-of-type {\n",
       "        vertical-align: middle;\n",
       "    }\n",
       "\n",
       "    .dataframe tbody tr th {\n",
       "        vertical-align: top;\n",
       "    }\n",
       "\n",
       "    .dataframe thead th {\n",
       "        text-align: right;\n",
       "    }\n",
       "</style>\n",
       "<table border=\"1\" class=\"dataframe\">\n",
       "  <thead>\n",
       "    <tr style=\"text-align: right;\">\n",
       "      <th></th>\n",
       "      <th>testID</th>\n",
       "      <th>tester</th>\n",
       "      <th>machine</th>\n",
       "      <th>cpu</th>\n",
       "      <th>mhz</th>\n",
       "      <th>hwAvail</th>\n",
       "      <th>os</th>\n",
       "      <th>compiler</th>\n",
       "      <th>autoParallel</th>\n",
       "      <th>benchType</th>\n",
       "      <th>base</th>\n",
       "      <th>peak</th>\n",
       "    </tr>\n",
       "  </thead>\n",
       "  <tbody>\n",
       "    <tr>\n",
       "      <th>0</th>\n",
       "      <td>cpu95-19990104-03254</td>\n",
       "      <td>Dell</td>\n",
       "      <td>Precision WorkStation 610 (450MHz)</td>\n",
       "      <td>450 MHz Pentium II XEON</td>\n",
       "      <td>450.0</td>\n",
       "      <td>Jan-1999</td>\n",
       "      <td>Microsoft Windows NT 4.0 sp3</td>\n",
       "      <td>Intel Fortran Compiler 2.4</td>\n",
       "      <td>No</td>\n",
       "      <td>CFP95</td>\n",
       "      <td>13.9</td>\n",
       "      <td>15.2</td>\n",
       "    </tr>\n",
       "    <tr>\n",
       "      <th>1</th>\n",
       "      <td>cpu95-19990104-03256</td>\n",
       "      <td>Dell</td>\n",
       "      <td>Precision WorkStation 610 (450MHz)</td>\n",
       "      <td>450 MHz Pentium II XEON</td>\n",
       "      <td>450.0</td>\n",
       "      <td>Jan-1999</td>\n",
       "      <td>Microsoft Windows NT 4.0 sp3</td>\n",
       "      <td>Intel C Compiler 2.4 for Windows NT, Microsoft...</td>\n",
       "      <td>No</td>\n",
       "      <td>CINT95</td>\n",
       "      <td>19.0</td>\n",
       "      <td>19.0</td>\n",
       "    </tr>\n",
       "    <tr>\n",
       "      <th>2</th>\n",
       "      <td>cpu95-19990118-03257</td>\n",
       "      <td>Siemens, Germany</td>\n",
       "      <td>CELSIUS 2000</td>\n",
       "      <td>Pentium II Xeon Processor 450 MHz</td>\n",
       "      <td>450.0</td>\n",
       "      <td>Nov-1998</td>\n",
       "      <td>Windows NT V4.0 (Service Pack 3)</td>\n",
       "      <td>Intel C Compiler Plug-In 2.4</td>\n",
       "      <td>No</td>\n",
       "      <td>CINT95</td>\n",
       "      <td>18.9</td>\n",
       "      <td>18.9</td>\n",
       "    </tr>\n",
       "    <tr>\n",
       "      <th>3</th>\n",
       "      <td>cpu95-19990118-03258</td>\n",
       "      <td>Siemens, Germany</td>\n",
       "      <td>CELSIUS 2000</td>\n",
       "      <td>Pentium II Xeon Processor 450 MHz</td>\n",
       "      <td>450.0</td>\n",
       "      <td>Nov-1998</td>\n",
       "      <td>Windows NT V4.0 (Service Pack 4)</td>\n",
       "      <td>Intel Fortran Compiler Plug-In 2.4</td>\n",
       "      <td>No</td>\n",
       "      <td>CFP95</td>\n",
       "      <td>13.5</td>\n",
       "      <td>15.0</td>\n",
       "    </tr>\n",
       "    <tr>\n",
       "      <th>4</th>\n",
       "      <td>cpu95-19990122-03268</td>\n",
       "      <td>Sun, Palo Alto</td>\n",
       "      <td>Sun Enterprise 3500</td>\n",
       "      <td>400MHz UltraSPARC II</td>\n",
       "      <td>400.0</td>\n",
       "      <td>Dec-1998</td>\n",
       "      <td>Solaris 2.7</td>\n",
       "      <td>Sun C 5.0</td>\n",
       "      <td>No</td>\n",
       "      <td>CINT95</td>\n",
       "      <td>14.3</td>\n",
       "      <td>17.7</td>\n",
       "    </tr>\n",
       "  </tbody>\n",
       "</table>\n",
       "</div>"
      ],
      "text/plain": [
       "                 testID            tester                             machine  \\\n",
       "0  cpu95-19990104-03254              Dell  Precision WorkStation 610 (450MHz)   \n",
       "1  cpu95-19990104-03256              Dell  Precision WorkStation 610 (450MHz)   \n",
       "2  cpu95-19990118-03257  Siemens, Germany                        CELSIUS 2000   \n",
       "3  cpu95-19990118-03258  Siemens, Germany                        CELSIUS 2000   \n",
       "4  cpu95-19990122-03268    Sun, Palo Alto                 Sun Enterprise 3500   \n",
       "\n",
       "                                 cpu    mhz   hwAvail  \\\n",
       "0            450 MHz Pentium II XEON  450.0  Jan-1999   \n",
       "1            450 MHz Pentium II XEON  450.0  Jan-1999   \n",
       "2  Pentium II Xeon Processor 450 MHz  450.0  Nov-1998   \n",
       "3  Pentium II Xeon Processor 450 MHz  450.0  Nov-1998   \n",
       "4               400MHz UltraSPARC II  400.0  Dec-1998   \n",
       "\n",
       "                                 os  \\\n",
       "0      Microsoft Windows NT 4.0 sp3   \n",
       "1      Microsoft Windows NT 4.0 sp3   \n",
       "2  Windows NT V4.0 (Service Pack 3)   \n",
       "3  Windows NT V4.0 (Service Pack 4)   \n",
       "4                       Solaris 2.7   \n",
       "\n",
       "                                            compiler autoParallel benchType  \\\n",
       "0                         Intel Fortran Compiler 2.4           No     CFP95   \n",
       "1  Intel C Compiler 2.4 for Windows NT, Microsoft...           No    CINT95   \n",
       "2                       Intel C Compiler Plug-In 2.4           No    CINT95   \n",
       "3                 Intel Fortran Compiler Plug-In 2.4           No     CFP95   \n",
       "4                                          Sun C 5.0           No    CINT95   \n",
       "\n",
       "   base  peak  \n",
       "0  13.9  15.2  \n",
       "1  19.0  19.0  \n",
       "2  18.9  18.9  \n",
       "3  13.5  15.0  \n",
       "4  14.3  17.7  "
      ]
     },
     "execution_count": 4,
     "metadata": {},
     "output_type": "execute_result"
    }
   ],
   "source": [
    "# load and observe the summary data\n",
    "summary = pd.read_csv(\"summaries.csv\")\n",
    "summary.head()"
   ]
  },
  {
   "cell_type": "code",
   "execution_count": 5,
   "metadata": {},
   "outputs": [
    {
     "name": "stdout",
     "output_type": "stream",
     "text": [
      "<class 'pandas.core.frame.DataFrame'>\n",
      "RangeIndex: 10155 entries, 0 to 10154\n",
      "Data columns (total 12 columns):\n",
      " #   Column        Non-Null Count  Dtype  \n",
      "---  ------        --------------  -----  \n",
      " 0   testID        10155 non-null  object \n",
      " 1   tester        10155 non-null  object \n",
      " 2   machine       8982 non-null   object \n",
      " 3   cpu           10155 non-null  object \n",
      " 4   mhz           10155 non-null  float64\n",
      " 5   hwAvail       10155 non-null  object \n",
      " 6   os            10155 non-null  object \n",
      " 7   compiler      10155 non-null  object \n",
      " 8   autoParallel  10155 non-null  object \n",
      " 9   benchType     10155 non-null  object \n",
      " 10  base          10155 non-null  float64\n",
      " 11  peak          10155 non-null  object \n",
      "dtypes: float64(2), object(10)\n",
      "memory usage: 952.2+ KB\n"
     ]
    }
   ],
   "source": [
    "summary.info()"
   ]
  },
  {
   "cell_type": "markdown",
   "metadata": {},
   "source": [
    "1. Extract the date and base speed for a benchmark of your choice. Note that the dates contained as part of the testID don't tell us about when the hardware was actually designed, so the test could have been run at a much later date using older hardware. We therefore need the date indicating when the hardware was first available (hwAvail) from the summaries file to really test Moore's Law."
   ]
  },
  {
   "cell_type": "code",
   "execution_count": 6,
   "metadata": {},
   "outputs": [
    {
     "name": "stdout",
     "output_type": "stream",
     "text": [
      "1999-01-01 00:00:00\n"
     ]
    }
   ],
   "source": [
    "#extract date from benchmark hwAwail\n",
    "#suppose the cpu is available on the first day of the month\n",
    "sample_date = datetime.strptime(summary['hwAvail'][0],'%b-%Y') \n",
    "print(sample_date)"
   ]
  },
  {
   "cell_type": "code",
   "execution_count": 7,
   "metadata": {},
   "outputs": [
    {
     "data": {
      "text/html": [
       "<div>\n",
       "<style scoped>\n",
       "    .dataframe tbody tr th:only-of-type {\n",
       "        vertical-align: middle;\n",
       "    }\n",
       "\n",
       "    .dataframe tbody tr th {\n",
       "        vertical-align: top;\n",
       "    }\n",
       "\n",
       "    .dataframe thead th {\n",
       "        text-align: right;\n",
       "    }\n",
       "</style>\n",
       "<table border=\"1\" class=\"dataframe\">\n",
       "  <thead>\n",
       "    <tr style=\"text-align: right;\">\n",
       "      <th></th>\n",
       "      <th>testID</th>\n",
       "      <th>hwAvail_transform</th>\n",
       "    </tr>\n",
       "  </thead>\n",
       "  <tbody>\n",
       "    <tr>\n",
       "      <th>0</th>\n",
       "      <td>cpu95-19990104-03254</td>\n",
       "      <td>1999-01-01</td>\n",
       "    </tr>\n",
       "    <tr>\n",
       "      <th>1</th>\n",
       "      <td>cpu95-19990104-03256</td>\n",
       "      <td>1999-01-01</td>\n",
       "    </tr>\n",
       "    <tr>\n",
       "      <th>2</th>\n",
       "      <td>cpu95-19990118-03257</td>\n",
       "      <td>1998-11-01</td>\n",
       "    </tr>\n",
       "    <tr>\n",
       "      <th>3</th>\n",
       "      <td>cpu95-19990118-03258</td>\n",
       "      <td>1998-11-01</td>\n",
       "    </tr>\n",
       "    <tr>\n",
       "      <th>4</th>\n",
       "      <td>cpu95-19990122-03268</td>\n",
       "      <td>1998-12-01</td>\n",
       "    </tr>\n",
       "  </tbody>\n",
       "</table>\n",
       "</div>"
      ],
      "text/plain": [
       "                 testID hwAvail_transform\n",
       "0  cpu95-19990104-03254        1999-01-01\n",
       "1  cpu95-19990104-03256        1999-01-01\n",
       "2  cpu95-19990118-03257        1998-11-01\n",
       "3  cpu95-19990118-03258        1998-11-01\n",
       "4  cpu95-19990122-03268        1998-12-01"
      ]
     },
     "execution_count": 7,
     "metadata": {},
     "output_type": "execute_result"
    }
   ],
   "source": [
    "#map the date from summary to benchmark on testID\n",
    "#summary[summary['testID'] == benchmark['testID']]\n",
    "summary['hwAvail_transform'] = summary['hwAvail'].apply(lambda x: datetime.strptime(x,'%b-%Y'))\n",
    "summary_extract = summary[['testID','hwAvail_transform']]\n",
    "summary_extract.head()"
   ]
  },
  {
   "cell_type": "code",
   "execution_count": 8,
   "metadata": {},
   "outputs": [
    {
     "data": {
      "text/html": [
       "<div>\n",
       "<style scoped>\n",
       "    .dataframe tbody tr th:only-of-type {\n",
       "        vertical-align: middle;\n",
       "    }\n",
       "\n",
       "    .dataframe tbody tr th {\n",
       "        vertical-align: top;\n",
       "    }\n",
       "\n",
       "    .dataframe thead th {\n",
       "        text-align: right;\n",
       "    }\n",
       "</style>\n",
       "<table border=\"1\" class=\"dataframe\">\n",
       "  <thead>\n",
       "    <tr style=\"text-align: right;\">\n",
       "      <th></th>\n",
       "      <th>testID</th>\n",
       "      <th>benchName</th>\n",
       "      <th>base</th>\n",
       "      <th>peak</th>\n",
       "      <th>hwAvail_transform</th>\n",
       "    </tr>\n",
       "  </thead>\n",
       "  <tbody>\n",
       "    <tr>\n",
       "      <th>0</th>\n",
       "      <td>cpu95-19990104-03254</td>\n",
       "      <td>101.tomcatv</td>\n",
       "      <td>19.40</td>\n",
       "      <td>27.1</td>\n",
       "      <td>1999-01-01</td>\n",
       "    </tr>\n",
       "    <tr>\n",
       "      <th>1</th>\n",
       "      <td>cpu95-19990104-03254</td>\n",
       "      <td>102.swim</td>\n",
       "      <td>27.20</td>\n",
       "      <td>34.8</td>\n",
       "      <td>1999-01-01</td>\n",
       "    </tr>\n",
       "    <tr>\n",
       "      <th>2</th>\n",
       "      <td>cpu95-19990104-03254</td>\n",
       "      <td>103.su2cor</td>\n",
       "      <td>10.10</td>\n",
       "      <td>9.98</td>\n",
       "      <td>1999-01-01</td>\n",
       "    </tr>\n",
       "    <tr>\n",
       "      <th>3</th>\n",
       "      <td>cpu95-19990104-03254</td>\n",
       "      <td>104.hydro2d</td>\n",
       "      <td>8.58</td>\n",
       "      <td>8.61</td>\n",
       "      <td>1999-01-01</td>\n",
       "    </tr>\n",
       "    <tr>\n",
       "      <th>4</th>\n",
       "      <td>cpu95-19990104-03254</td>\n",
       "      <td>107.mgrid</td>\n",
       "      <td>8.94</td>\n",
       "      <td>9.44</td>\n",
       "      <td>1999-01-01</td>\n",
       "    </tr>\n",
       "  </tbody>\n",
       "</table>\n",
       "</div>"
      ],
      "text/plain": [
       "                 testID    benchName   base  peak hwAvail_transform\n",
       "0  cpu95-19990104-03254  101.tomcatv  19.40  27.1        1999-01-01\n",
       "1  cpu95-19990104-03254     102.swim  27.20  34.8        1999-01-01\n",
       "2  cpu95-19990104-03254   103.su2cor  10.10  9.98        1999-01-01\n",
       "3  cpu95-19990104-03254  104.hydro2d   8.58  8.61        1999-01-01\n",
       "4  cpu95-19990104-03254    107.mgrid   8.94  9.44        1999-01-01"
      ]
     },
     "execution_count": 8,
     "metadata": {},
     "output_type": "execute_result"
    }
   ],
   "source": [
    "# left join the two dataframes on testID to get the actual available date\n",
    "merged_left = pd.merge(left=benchmark, right=summary_extract, how='left', left_on='testID', right_on='testID')\n",
    "merged_left.head()"
   ]
  },
  {
   "cell_type": "code",
   "execution_count": 9,
   "metadata": {},
   "outputs": [
    {
     "data": {
      "text/html": [
       "<div>\n",
       "<style scoped>\n",
       "    .dataframe tbody tr th:only-of-type {\n",
       "        vertical-align: middle;\n",
       "    }\n",
       "\n",
       "    .dataframe tbody tr th {\n",
       "        vertical-align: top;\n",
       "    }\n",
       "\n",
       "    .dataframe thead th {\n",
       "        text-align: right;\n",
       "    }\n",
       "</style>\n",
       "<table border=\"1\" class=\"dataframe\">\n",
       "  <thead>\n",
       "    <tr style=\"text-align: right;\">\n",
       "      <th></th>\n",
       "      <th>testID</th>\n",
       "      <th>benchName</th>\n",
       "      <th>base</th>\n",
       "      <th>peak</th>\n",
       "      <th>hwAvail_transform</th>\n",
       "      <th>time_delta</th>\n",
       "    </tr>\n",
       "  </thead>\n",
       "  <tbody>\n",
       "    <tr>\n",
       "      <th>45856</th>\n",
       "      <td>cpu2006-20060513-00002</td>\n",
       "      <td>482.sphinx3</td>\n",
       "      <td>1.01</td>\n",
       "      <td>NaN</td>\n",
       "      <td>1997-04-01</td>\n",
       "      <td>1280448.0</td>\n",
       "    </tr>\n",
       "    <tr>\n",
       "      <th>45897</th>\n",
       "      <td>cpu2006-20060513-00009</td>\n",
       "      <td>482.sphinx3</td>\n",
       "      <td>9.91</td>\n",
       "      <td>9.91</td>\n",
       "      <td>2006-01-01</td>\n",
       "      <td>3121920.0</td>\n",
       "    </tr>\n",
       "    <tr>\n",
       "      <th>45926</th>\n",
       "      <td>cpu2006-20060513-00013</td>\n",
       "      <td>482.sphinx3</td>\n",
       "      <td>17.30</td>\n",
       "      <td>NaN</td>\n",
       "      <td>2006-05-01</td>\n",
       "      <td>3191040.0</td>\n",
       "    </tr>\n",
       "    <tr>\n",
       "      <th>45943</th>\n",
       "      <td>cpu2006-20060513-00014</td>\n",
       "      <td>482.sphinx3</td>\n",
       "      <td>17.10</td>\n",
       "      <td>NaN</td>\n",
       "      <td>2005-06-01</td>\n",
       "      <td>2998656.0</td>\n",
       "    </tr>\n",
       "    <tr>\n",
       "      <th>45984</th>\n",
       "      <td>cpu2006-20060513-00017</td>\n",
       "      <td>482.sphinx3</td>\n",
       "      <td>17.70</td>\n",
       "      <td>18.6</td>\n",
       "      <td>2005-09-01</td>\n",
       "      <td>3051648.0</td>\n",
       "    </tr>\n",
       "  </tbody>\n",
       "</table>\n",
       "</div>"
      ],
      "text/plain": [
       "                       testID    benchName   base  peak hwAvail_transform  \\\n",
       "45856  cpu2006-20060513-00002  482.sphinx3   1.01   NaN        1997-04-01   \n",
       "45897  cpu2006-20060513-00009  482.sphinx3   9.91  9.91        2006-01-01   \n",
       "45926  cpu2006-20060513-00013  482.sphinx3  17.30   NaN        2006-05-01   \n",
       "45943  cpu2006-20060513-00014  482.sphinx3  17.10   NaN        2005-06-01   \n",
       "45984  cpu2006-20060513-00017  482.sphinx3  17.70  18.6        2005-09-01   \n",
       "\n",
       "       time_delta  \n",
       "45856   1280448.0  \n",
       "45897   3121920.0  \n",
       "45926   3191040.0  \n",
       "45943   2998656.0  \n",
       "45984   3051648.0  "
      ]
     },
     "execution_count": 9,
     "metadata": {},
     "output_type": "execute_result"
    }
   ],
   "source": [
    "# convert time series to time deltas to make it comparable\n",
    "first_date = merged_left['hwAvail_transform'].min()\n",
    "merged_left['time_delta'] = merged_left['hwAvail_transform'].apply(lambda x:(x - first_date).total_seconds() / 3600*24)\n",
    "merged_left = merged_left[merged_left['benchName']=='482.sphinx3']\n",
    "merged_left.head()"
   ]
  },
  {
   "cell_type": "code",
   "execution_count": 10,
   "metadata": {},
   "outputs": [
    {
     "data": {
      "image/png": "[encoded data removed]",
      "text/plain": [
       "<Figure size 432x288 with 1 Axes>"
      ]
     },
     "metadata": {
      "needs_background": "light"
     },
     "output_type": "display_data"
    }
   ],
   "source": [
    "#Plot the data in a semi-log plot (logy) to better show the exponential trend\n",
    "x = merged_left[['time_delta']]\n",
    "logy = np.log10(merged_left['base'].values)\n",
    "plt.scatter(x,logy)\n",
    "plt.xlabel('Time (delta day)')\n",
    "plt.ylabel('Base (log)')\n",
    "plt.title('Semilog Graph for base speed and time delta of hwAvail_transform')\n",
    "\n",
    "plt.show()"
   ]
  },
  {
   "cell_type": "code",
   "execution_count": 11,
   "metadata": {},
   "outputs": [],
   "source": [
    "# As we can see from the plot that the log of base speed has a linear relationship with time, \n",
    "regr = LinearRegression().fit(x, logy)\n",
    "pred = regr.predict(x)"
   ]
  },
  {
   "cell_type": "code",
   "execution_count": 12,
   "metadata": {},
   "outputs": [
    {
     "name": "stdout",
     "output_type": "stream",
     "text": [
      "Coefficients: \n",
      " [4.47206683e-07]\n",
      "Intercept: \n",
      " -0.2612910104125101\n",
      "Mean squared error: 0.02\n",
      "R-squared: 0.50 , meaning that 50% of the variance in data can be explained by the model.\n"
     ]
    },
    {
     "data": {
      "image/png": "[encoded data removed]",
      "text/plain": [
       "<Figure size 432x288 with 1 Axes>"
      ]
     },
     "metadata": {
      "needs_background": "light"
     },
     "output_type": "display_data"
    }
   ],
   "source": [
    "# The coefficient\n",
    "print('Coefficients: \\n', regr.coef_)\n",
    "# The intercept\n",
    "print('Intercept: \\n', regr.intercept_)\n",
    "# The mean squared error\n",
    "print('Mean squared error: %.2f' % mean_squared_error(logy, pred))\n",
    "# R-squared: \n",
    "print('R-squared: %.2f' % r2_score(logy, pred), ', meaning that 50% of the variance in data can be explained by the model.')\n",
    "\n",
    "# Plot outputs\n",
    "plt.scatter(x, logy)\n",
    "plt.plot(x, pred, color='blue', linewidth=3)\n",
    "plt.xlabel('Time (delta day)')\n",
    "plt.ylabel('Base (log)')\n",
    "plt.show()"
   ]
  },
  {
   "cell_type": "markdown",
   "metadata": {},
   "source": [
    "How well is Moore’s law holding up?\n",
    "\n",
    "According to Wikipedia, Moore's law is the observation that the number of transistors in a dense integrated circuit (IC) doubles about every two years. \n",
    "The regression model shows that for the selected bench, for every delta day increase in time, the log 10 of the base speed of the cpu increase by 4.47206683e-07, meaning that base speed grows exponentially regarding time, supporting Moore's law.\n"
   ]
  },
  {
   "cell_type": "markdown",
   "metadata": {},
   "source": [
    "### MNIST Digits"
   ]
  },
  {
   "cell_type": "markdown",
   "metadata": {},
   "source": [
    "No machine learning course would be complete without using the MNIST dataset. This dataset was a hugely influential dataset of handwritten digits (0-9).\n",
    "\n",
    "[http://scikit-learn.org/stable/tutorial/basic/tutorial.html](http://scikit-learn.org/stable/tutorial/basic/tutorial.html)\n",
    "\n",
    "1. Using Scikit.learn, load the MNIST digits (See here: [http://scikit-learn.org/stable/modules/generated/sklearn.datasets.load_digits.html#sklearn.datasets.load_digits](http://scikit-learn.org/stable/modules/generated/sklearn.datasets.load_digits.html#sklearn.datasets.load_digits)).\n",
    "2. Plot some of the examples.\n",
    "3. Choose two digit classes (e.g 7s and 3s) , and train a k-nearest neighbor classifier.\n",
    "4. Report your error rates on a held out part of the data.\n",
    "5. (Optional) Test your model on the full dataset (available from [http://yann.lecun.com/exdb/mnist/](http://yann.lecun.com/exdb/mnist/))"
   ]
  },
  {
   "cell_type": "code",
   "execution_count": 13,
   "metadata": {},
   "outputs": [],
   "source": [
    "# load the MNIST digits\n",
    "digits = load_digits()"
   ]
  },
  {
   "cell_type": "code",
   "execution_count": 14,
   "metadata": {},
   "outputs": [
    {
     "data": {
      "text/plain": [
       "<Figure size 432x288 with 0 Axes>"
      ]
     },
     "metadata": {},
     "output_type": "display_data"
    },
    {
     "data": {
      "image/png": "[encoded data removed]",
      "text/plain": [
       "<Figure size 288x288 with 1 Axes>"
      ]
     },
     "metadata": {
      "needs_background": "light"
     },
     "output_type": "display_data"
    }
   ],
   "source": [
    "#Plot some of the examples.\n",
    "plt.gray()\n",
    "plt.matshow(digits.images[0])\n",
    "plt.show()"
   ]
  },
  {
   "cell_type": "code",
   "execution_count": 15,
   "metadata": {},
   "outputs": [
    {
     "data": {
      "image/png": "[encoded data removed]",
      "text/plain": [
       "<Figure size 288x288 with 1 Axes>"
      ]
     },
     "metadata": {
      "needs_background": "light"
     },
     "output_type": "display_data"
    }
   ],
   "source": [
    "plt.matshow(digits.images[1])\n",
    "plt.show()"
   ]
  },
  {
   "cell_type": "markdown",
   "metadata": {},
   "source": [
    "Next, we choose two digit classes (7s and 3s), and train a k-nearest neighbor classifier."
   ]
  },
  {
   "cell_type": "code",
   "execution_count": 16,
   "metadata": {},
   "outputs": [],
   "source": [
    "x_digits = digits.data\n",
    "y_digits = digits.target\n",
    "\n",
    "def choose_73(x, y):\n",
    "    x_73 = []\n",
    "    y_73 = []\n",
    "    for i in range(len(x)):\n",
    "        if y[i] == 3 or y[i] == 7:\n",
    "            x_73.append(x[i])\n",
    "            y_73.append(y[i])\n",
    "    return x_73, y_73\n",
    "\n",
    "x_73, y_73 = choose_73(x_digits,y_digits)"
   ]
  },
  {
   "cell_type": "code",
   "execution_count": 17,
   "metadata": {},
   "outputs": [
    {
     "name": "stdout",
     "output_type": "stream",
     "text": [
      "(array([3, 7]), array([147, 142]))\n",
      "(array([3, 7]), array([36, 37]))\n"
     ]
    }
   ],
   "source": [
    "#split into train and test datasets\n",
    "x_train, x_test, y_train, y_test = train_test_split(x_73, y_73, test_size=0.2, random_state=123)\n",
    "print(np.unique(y_train,return_counts=True))\n",
    "print(np.unique(y_test,return_counts=True))"
   ]
  },
  {
   "cell_type": "markdown",
   "metadata": {},
   "source": [
    "Cross-validation method is used here to tackle overfitting, by holding out a validation dataset to minimize the error rate for the model chosen.\n",
    "Also tested values from 3-25 for parameter k to identify the most appropriate one."
   ]
  },
  {
   "cell_type": "code",
   "execution_count": 18,
   "metadata": {},
   "outputs": [
    {
     "name": "stdout",
     "output_type": "stream",
     "text": [
      "The best parameter of k is: {'n_neighbors': 9}\n",
      "The best accuracy score is: 1.0\n"
     ]
    }
   ],
   "source": [
    "#create new a knn model\n",
    "knn = KNeighborsClassifier()\n",
    "#create a dictionary of all values we want to test for n_neighbors\n",
    "param_grid = {'n_neighbors': np.arange(3, 25, 2)}\n",
    "#use gridsearch and cross-validation to test all values for n_neighbors\n",
    "knn_gscv = GridSearchCV(knn, param_grid, cv = 5)\n",
    "#fit model to data\n",
    "knn_gscv.fit(x_train, y_train)\n",
    "#get the best choice of k and corresponding training accuracy score\n",
    "print(\"The best parameter of k is:\", knn_gscv.best_params_)\n",
    "print(\"The best accuracy score is:\", knn_gscv.best_score_)"
   ]
  },
  {
   "cell_type": "markdown",
   "metadata": {},
   "source": [
    "After experimentation, the model uses a k value of 9 with a cross-validation accuracy score of 1.0."
   ]
  },
  {
   "cell_type": "code",
   "execution_count": 19,
   "metadata": {},
   "outputs": [
    {
     "name": "stdout",
     "output_type": "stream",
     "text": [
      "The error rate on a held-out dataset is: 0.013698630136986356 the model is doing quite a good job.\n"
     ]
    }
   ],
   "source": [
    "#using the test dataset to predict and calculate the error rate\n",
    "pred = knn_gscv.predict(x_test)\n",
    "acc = accuracy_score(y_test, pred)\n",
    "print('The error rate on a held-out dataset is:', 1 - acc, 'the model is doing quite a good job.')"
   ]
  },
  {
   "cell_type": "markdown",
   "metadata": {},
   "source": [
    "Test on the full dataset: "
   ]
  },
  {
   "cell_type": "code",
   "execution_count": 20,
   "metadata": {},
   "outputs": [],
   "source": [
    "#load and transform data\n",
    "import struct\n",
    "\n",
    "def load_images(images_file):\n",
    "    \n",
    "    with open(images_file,'rb') as f:\n",
    "        magic, size = struct.unpack(\">II\", f.read(8))\n",
    "        nrows, ncols = struct.unpack(\">II\", f.read(8))\n",
    "        x_n = np.fromfile(f, dtype=np.dtype(np.uint8).newbyteorder('>'))\n",
    "        x_n = x_n.reshape((size, nrows, ncols))\n",
    "\n",
    "    x_n = x_n.reshape(x_n.shape[0], -1).astype('float32')\n",
    "    \n",
    "    return x_n\n",
    "\n",
    "x_train_n = load_images('train-images-idx3-ubyte')\n",
    "x_test_n = load_images('t10k-images-idx3-ubyte')"
   ]
  },
  {
   "cell_type": "code",
   "execution_count": 21,
   "metadata": {},
   "outputs": [],
   "source": [
    "def load_labels(labels_file):\n",
    "    \n",
    "    with open(labels_file,'rb') as f:\n",
    "        nrows, ncols = struct.unpack('>II', f.read(8))\n",
    "        y_n = np.fromfile(f, dtype=np.dtype(np.uint8).newbyteorder('>'))\n",
    "\n",
    "    return y_n\n",
    "\n",
    "y_train_n = load_labels('train-labels-idx1-ubyte')\n",
    "y_test_n = load_labels('t10k-labels-idx1-ubyte')"
   ]
  },
  {
   "cell_type": "code",
   "execution_count": 22,
   "metadata": {},
   "outputs": [],
   "source": [
    "# choose labels of 7s and 3s\n",
    "x_73_train_n, y_73_train_n = choose_73(x_train_n, y_train_n)\n",
    "x_73_test_n, y_73_test_n = choose_73(x_test_n, y_test_n)"
   ]
  },
  {
   "cell_type": "code",
   "execution_count": 23,
   "metadata": {},
   "outputs": [
    {
     "data": {
      "text/plain": [
       "KNeighborsClassifier(algorithm='auto', leaf_size=30, metric='minkowski',\n",
       "                     metric_params=None, n_jobs=None, n_neighbors=5, p=2,\n",
       "                     weights='uniform')"
      ]
     },
     "execution_count": 23,
     "metadata": {},
     "output_type": "execute_result"
    }
   ],
   "source": [
    "# My computer failed to run for different values of k, a default value of 5 is used here\n",
    "neigh = KNeighborsClassifier(n_neighbors=5)\n",
    "neigh.fit(x_73_train_n, y_73_train_n)"
   ]
  },
  {
   "cell_type": "code",
   "execution_count": 24,
   "metadata": {},
   "outputs": [
    {
     "name": "stdout",
     "output_type": "stream",
     "text": [
      "The error rate on a test dataset is: 0.006378802747791901\n"
     ]
    }
   ],
   "source": [
    "# evaluate the model\n",
    "pred = neigh.predict(x_73_test_n)\n",
    "acc = accuracy_score(y_73_test_n, pred)\n",
    "print('The error rate on a test dataset is:', 1 - acc)"
   ]
  },
  {
   "cell_type": "code",
   "execution_count": 25,
   "metadata": {},
   "outputs": [
    {
     "name": "stdout",
     "output_type": "stream",
     "text": [
      "The best parameter of k is: {'n_neighbors': 3}\n",
      "The best accuracy score is: 0.9948370442078089\n"
     ]
    }
   ],
   "source": [
    "'''\n",
    "neigh = KNeighborsClassifier()\n",
    "#create a dictionary of all values we want to test for n_neighbors\n",
    "param_grid = {'n_neighbors': np.arange(3, 25, 2)}\n",
    "#use gridsearch and cross-validation to test all values for n_neighbors\n",
    "knn_gscv = GridSearchCV(neigh, param_grid, cv = 5)\n",
    "#fit model to data\n",
    "knn_gscv.fit(x_73_train_n, y_73_train_n)\n",
    "#get the best choice of k and corresponding training accuracy score\n",
    "print(\"The best parameter of k is:\", knn_gscv.best_params_)\n",
    "print(\"The best accuracy score is:\", knn_gscv.best_score_)\n",
    "'''"
   ]
  },
  {
   "cell_type": "code",
   "execution_count": null,
   "metadata": {},
   "outputs": [],
   "source": []
  }
 ],
 "metadata": {
  "kernelspec": {
   "display_name": "Python 3 (ipykernel)",
   "language": "python",
   "name": "python3"
  },
  "language_info": {
   "codemirror_mode": {
    "name": "ipython",
    "version": 3
   },
   "file_extension": ".py",
   "mimetype": "text/x-python",
   "name": "python",
   "nbconvert_exporter": "python",
   "pygments_lexer": "ipython3",
   "version": "3.7.3"
  }
 },
 "nbformat": 4,
 "nbformat_minor": 2
}
